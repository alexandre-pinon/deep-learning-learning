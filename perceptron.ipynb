{
 "cells": [
  {
   "cell_type": "code",
   "execution_count": 209,
   "metadata": {},
   "outputs": [],
   "source": [
    "import numpy as np\n",
    "import matplotlib.pyplot as plt\n",
    "from sklearn.datasets import make_blobs\n",
    "from sklearn.metrics import accuracy_score"
   ]
  },
  {
   "cell_type": "code",
   "execution_count": 210,
   "metadata": {},
   "outputs": [
    {
     "name": "stdout",
     "output_type": "stream",
     "text": [
      "X dimensions: (100, 2)\n",
      "y dimensions: (100, 1)\n"
     ]
    },
    {
     "data": {
      "image/png": "[encoded data removed]",
      "text/plain": [
       "<Figure size 432x288 with 1 Axes>"
      ]
     },
     "metadata": {
      "needs_background": "light"
     },
     "output_type": "display_data"
    }
   ],
   "source": [
    "X, y = make_blobs(n_samples=100, n_features=2, centers=2, random_state=0)\n",
    "y = y.reshape((y.shape[0], 1))\n",
    "\n",
    "print(f'X dimensions: {X.shape}')\n",
    "print(f'y dimensions: {y.shape}')\n",
    "\n",
    "plt.scatter(X[:, 0], X[:, 1], c=y, cmap='plasma')\n",
    "plt.show()"
   ]
  },
  {
   "cell_type": "code",
   "execution_count": 211,
   "metadata": {},
   "outputs": [],
   "source": [
    "def init(X):\n",
    "    W = np.random.randn(X.shape[1], 1)\n",
    "    b = np.random.randn(1)\n",
    "    return W, b\n"
   ]
  },
  {
   "cell_type": "code",
   "execution_count": 212,
   "metadata": {},
   "outputs": [],
   "source": [
    "def model(X, W, b):\n",
    "    Z = X.dot(W) + b\n",
    "    A = 1 / (1 + np.exp(-Z))\n",
    "    return A\n"
   ]
  },
  {
   "cell_type": "code",
   "execution_count": 213,
   "metadata": {},
   "outputs": [],
   "source": [
    "def log_loss(A, y):\n",
    "    m = y.shape[0]\n",
    "    return -(1 / m) * np.sum(y * np.log(A) + (1 - y) * np.log(1 - A))\n"
   ]
  },
  {
   "cell_type": "code",
   "execution_count": 214,
   "metadata": {},
   "outputs": [],
   "source": [
    "def gradients(A, X, y):\n",
    "    m = y.shape[0]\n",
    "    dW = (1 / m) * np.dot(X.T, A - y)\n",
    "    db = (1 / m) * np.sum(A - y)\n",
    "    return dW, db\n"
   ]
  },
  {
   "cell_type": "code",
   "execution_count": 215,
   "metadata": {},
   "outputs": [],
   "source": [
    "def update(dW, db, W, b, learning_rate: int):\n",
    "    W -= learning_rate * dW\n",
    "    b -= learning_rate * db\n",
    "    return W, b\n"
   ]
  },
  {
   "cell_type": "code",
   "execution_count": 216,
   "metadata": {},
   "outputs": [],
   "source": [
    "def predict(X, W, b):\n",
    "  A = model(X, W, b)\n",
    "  print(A)\n",
    "  return A >= 0.5"
   ]
  },
  {
   "cell_type": "code",
   "execution_count": 217,
   "metadata": {},
   "outputs": [],
   "source": [
    "def perceptron(X, y, learning_rate: int = 0.001, n_iter: int = 10000):\n",
    "    W, b = init(X)\n",
    "    cost = []\n",
    "\n",
    "    for _ in range(n_iter):\n",
    "        A = model(X, W, b)\n",
    "        cost.append(log_loss(A, y))\n",
    "        dW, db = gradients(A, X, y)\n",
    "        W, b = update(dW, db, W, b, learning_rate)\n",
    "\n",
    "    y_pred = predict(X, W, b)\n",
    "    accuracy = accuracy_score(y, y_pred)\n",
    "\n",
    "    print(f'Model accuracy: {accuracy}')\n",
    "    plt.plot(cost, c='r')\n",
    "    plt.show()\n",
    "\n",
    "    return W, b\n"
   ]
  },
  {
   "cell_type": "code",
   "execution_count": 218,
   "metadata": {},
   "outputs": [
    {
     "name": "stdout",
     "output_type": "stream",
     "text": [
      "[[9.63479822e-01]\n",
      " [8.10202213e-01]\n",
      " [5.40721409e-03]\n",
      " [1.63314125e-01]\n",
      " [9.64593024e-01]\n",
      " [3.61731619e-01]\n",
      " [6.91361306e-02]\n",
      " [9.44189886e-01]\n",
      " [4.86995272e-02]\n",
      " [8.94697076e-01]\n",
      " [3.07355093e-02]\n",
      " [8.93757919e-01]\n",
      " [2.31424761e-02]\n",
      " [1.82989522e-02]\n",
      " [7.41791914e-01]\n",
      " [9.81605360e-01]\n",
      " [9.92090486e-01]\n",
      " [3.77468584e-02]\n",
      " [7.82884579e-01]\n",
      " [6.84073266e-01]\n",
      " [4.22936499e-02]\n",
      " [3.57712897e-02]\n",
      " [4.15641104e-01]\n",
      " [5.20063426e-03]\n",
      " [9.56494188e-01]\n",
      " [3.05498579e-02]\n",
      " [9.14081307e-01]\n",
      " [7.40089045e-03]\n",
      " [6.10611334e-02]\n",
      " [7.52978111e-01]\n",
      " [9.81679304e-01]\n",
      " [4.16395100e-02]\n",
      " [7.19257895e-01]\n",
      " [9.81956479e-01]\n",
      " [4.16545594e-01]\n",
      " [2.15820883e-01]\n",
      " [8.12200284e-01]\n",
      " [5.61049303e-01]\n",
      " [4.67812233e-01]\n",
      " [5.11900353e-01]\n",
      " [7.85305994e-02]\n",
      " [5.92148401e-02]\n",
      " [8.37121144e-04]\n",
      " [1.65787946e-01]\n",
      " [2.13578096e-01]\n",
      " [8.52278044e-01]\n",
      " [9.72779878e-01]\n",
      " [9.69134517e-01]\n",
      " [4.99871349e-03]\n",
      " [8.70343175e-03]\n",
      " [9.49307584e-01]\n",
      " [6.16715543e-01]\n",
      " [3.53862829e-02]\n",
      " [3.69208702e-02]\n",
      " [8.08040802e-01]\n",
      " [3.99335996e-02]\n",
      " [7.03823303e-01]\n",
      " [8.50094692e-01]\n",
      " [9.52208172e-01]\n",
      " [9.92200453e-01]\n",
      " [6.83857850e-01]\n",
      " [1.69533680e-01]\n",
      " [4.87026365e-03]\n",
      " [9.30939806e-01]\n",
      " [1.25682710e-02]\n",
      " [3.77077663e-01]\n",
      " [3.84869419e-02]\n",
      " [6.04322086e-01]\n",
      " [9.43473739e-01]\n",
      " [2.66481055e-01]\n",
      " [1.78589417e-01]\n",
      " [9.34586969e-01]\n",
      " [9.68362957e-01]\n",
      " [1.02769544e-01]\n",
      " [1.37268354e-01]\n",
      " [3.95302083e-02]\n",
      " [5.74970182e-01]\n",
      " [8.74844668e-01]\n",
      " [4.93073945e-02]\n",
      " [3.25980032e-02]\n",
      " [2.88591777e-01]\n",
      " [9.96337429e-02]\n",
      " [4.25766057e-03]\n",
      " [1.07044281e-01]\n",
      " [1.08053013e-01]\n",
      " [1.27178007e-02]\n",
      " [9.72473940e-01]\n",
      " [5.66809892e-02]\n",
      " [8.38684314e-01]\n",
      " [9.60625254e-01]\n",
      " [9.03863732e-01]\n",
      " [9.82485920e-01]\n",
      " [4.86300177e-01]\n",
      " [9.47313439e-01]\n",
      " [2.90182717e-01]\n",
      " [1.37833332e-03]\n",
      " [9.83384422e-01]\n",
      " [9.64073142e-01]\n",
      " [1.09692285e-02]\n",
      " [4.73394596e-01]]\n",
      "Model accuracy: 0.9\n"
     ]
    },
    {
     "data": {
      "image/png": "[encoded data removed]",
      "text/plain": [
       "<Figure size 432x288 with 1 Axes>"
      ]
     },
     "metadata": {
      "needs_background": "light"
     },
     "output_type": "display_data"
    }
   ],
   "source": [
    "W, b = perceptron(X, y)\n"
   ]
  },
  {
   "cell_type": "code",
   "execution_count": 219,
   "metadata": {},
   "outputs": [
    {
     "data": {
      "image/png": "[encoded data removed]",
      "text/plain": [
       "<Figure size 432x288 with 1 Axes>"
      ]
     },
     "metadata": {
      "needs_background": "light"
     },
     "output_type": "display_data"
    }
   ],
   "source": [
    "new_plant = np.array([2, 1])\n",
    "\n",
    "x0 = np.linspace(-1, 4, y.shape[0])\n",
    "x1 = - (W[0] * x0 + b) / W[1]\n",
    "\n",
    "plt.plot(x0, x1, c='orange', lw=3)\n",
    "plt.scatter(X[:, 0], X[:, 1], c=y, cmap='plasma')\n",
    "plt.scatter(new_plant[0], new_plant[1], c='r')\n",
    "plt.show()"
   ]
  },
  {
   "cell_type": "code",
   "execution_count": 220,
   "metadata": {},
   "outputs": [
    {
     "name": "stdout",
     "output_type": "stream",
     "text": [
      "[0.89128291]\n"
     ]
    },
    {
     "data": {
      "text/plain": [
       "array([ True])"
      ]
     },
     "execution_count": 220,
     "metadata": {},
     "output_type": "execute_result"
    }
   ],
   "source": [
    "predict(new_plant, W, b)"
   ]
  }
 ],
 "metadata": {
  "interpreter": {
   "hash": "bc9fdc8084e0ecf7c8f1b61bf504be548a9dfe27fc42626cc7e4aabcf6c17926"
  },
  "kernelspec": {
   "display_name": "Python 3.8.10 ('deep-learning-learning')",
   "language": "python",
   "name": "python3"
  },
  "language_info": {
   "codemirror_mode": {
    "name": "ipython",
    "version": 3
   },
   "file_extension": ".py",
   "mimetype": "text/x-python",
   "name": "python",
   "nbconvert_exporter": "python",
   "pygments_lexer": "ipython3",
   "version": "3.8.10"
  },
  "orig_nbformat": 4
 },
 "nbformat": 4,
 "nbformat_minor": 2
}
